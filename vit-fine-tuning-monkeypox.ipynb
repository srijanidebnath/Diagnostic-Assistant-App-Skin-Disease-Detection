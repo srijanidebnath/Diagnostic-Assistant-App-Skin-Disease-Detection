{
 "cells": [
  {
   "cell_type": "code",
   "execution_count": 12,
   "metadata": {
    "execution": {
     "iopub.execute_input": "2025-02-24T21:41:08.131176Z",
     "iopub.status.busy": "2025-02-24T21:41:08.130840Z",
     "iopub.status.idle": "2025-02-24T21:41:14.670714Z",
     "shell.execute_reply": "2025-02-24T21:41:14.669647Z",
     "shell.execute_reply.started": "2025-02-24T21:41:08.131149Z"
    },
    "trusted": true
   },
   "outputs": [
    {
     "name": "stdout",
     "output_type": "stream",
     "text": [
      "Requirement already satisfied: timm in /usr/local/lib/python3.10/dist-packages (1.0.12)\n",
      "Requirement already satisfied: tqdm in /usr/local/lib/python3.10/dist-packages (4.67.1)\n",
      "Requirement already satisfied: torchvision in /usr/local/lib/python3.10/dist-packages (0.20.1+cu121)\n",
      "Requirement already satisfied: torchmetrics in /usr/local/lib/python3.10/dist-packages (1.6.1)\n",
      "Requirement already satisfied: torch in /usr/local/lib/python3.10/dist-packages (from timm) (2.5.1+cu121)\n",
      "Requirement already satisfied: pyyaml in /usr/local/lib/python3.10/dist-packages (from timm) (6.0.2)\n",
      "Requirement already satisfied: huggingface_hub in /usr/local/lib/python3.10/dist-packages (from timm) (0.29.0)\n",
      "Requirement already satisfied: safetensors in /usr/local/lib/python3.10/dist-packages (from timm) (0.4.5)\n",
      "Requirement already satisfied: numpy in /usr/local/lib/python3.10/dist-packages (from torchvision) (1.26.4)\n",
      "Requirement already satisfied: pillow!=8.3.*,>=5.3.0 in /usr/local/lib/python3.10/dist-packages (from torchvision) (11.0.0)\n",
      "Requirement already satisfied: filelock in /usr/local/lib/python3.10/dist-packages (from torch->timm) (3.17.0)\n",
      "Requirement already satisfied: typing-extensions>=4.8.0 in /usr/local/lib/python3.10/dist-packages (from torch->timm) (4.12.2)\n",
      "Requirement already satisfied: networkx in /usr/local/lib/python3.10/dist-packages (from torch->timm) (3.4.2)\n",
      "Requirement already satisfied: jinja2 in /usr/local/lib/python3.10/dist-packages (from torch->timm) (3.1.4)\n",
      "Requirement already satisfied: fsspec in /usr/local/lib/python3.10/dist-packages (from torch->timm) (2024.12.0)\n",
      "Requirement already satisfied: sympy==1.13.1 in /usr/local/lib/python3.10/dist-packages (from torch->timm) (1.13.1)\n",
      "Requirement already satisfied: mpmath<1.4,>=1.1.0 in /usr/local/lib/python3.10/dist-packages (from sympy==1.13.1->torch->timm) (1.3.0)\n",
      "Requirement already satisfied: packaging>17.1 in /usr/local/lib/python3.10/dist-packages (from torchmetrics) (24.2)\n",
      "Requirement already satisfied: lightning-utilities>=0.8.0 in /usr/local/lib/python3.10/dist-packages (from torchmetrics) (0.12.0)\n",
      "Requirement already satisfied: setuptools in /usr/local/lib/python3.10/dist-packages (from lightning-utilities>=0.8.0->torchmetrics) (75.1.0)\n",
      "Requirement already satisfied: mkl_fft in /usr/local/lib/python3.10/dist-packages (from numpy->torchvision) (1.3.8)\n",
      "Requirement already satisfied: mkl_random in /usr/local/lib/python3.10/dist-packages (from numpy->torchvision) (1.2.4)\n",
      "Requirement already satisfied: mkl_umath in /usr/local/lib/python3.10/dist-packages (from numpy->torchvision) (0.1.1)\n",
      "Requirement already satisfied: mkl in /usr/local/lib/python3.10/dist-packages (from numpy->torchvision) (2025.0.1)\n",
      "Requirement already satisfied: tbb4py in /usr/local/lib/python3.10/dist-packages (from numpy->torchvision) (2022.0.0)\n",
      "Requirement already satisfied: mkl-service in /usr/local/lib/python3.10/dist-packages (from numpy->torchvision) (2.4.1)\n",
      "Requirement already satisfied: requests in /usr/local/lib/python3.10/dist-packages (from huggingface_hub->timm) (2.32.3)\n",
      "Requirement already satisfied: MarkupSafe>=2.0 in /usr/local/lib/python3.10/dist-packages (from jinja2->torch->timm) (3.0.2)\n",
      "Requirement already satisfied: intel-openmp>=2024 in /usr/local/lib/python3.10/dist-packages (from mkl->numpy->torchvision) (2024.2.0)\n",
      "Requirement already satisfied: tbb==2022.* in /usr/local/lib/python3.10/dist-packages (from mkl->numpy->torchvision) (2022.0.0)\n",
      "Requirement already satisfied: tcmlib==1.* in /usr/local/lib/python3.10/dist-packages (from tbb==2022.*->mkl->numpy->torchvision) (1.2.0)\n",
      "Requirement already satisfied: intel-cmplr-lib-rt in /usr/local/lib/python3.10/dist-packages (from mkl_umath->numpy->torchvision) (2024.2.0)\n",
      "Requirement already satisfied: charset-normalizer<4,>=2 in /usr/local/lib/python3.10/dist-packages (from requests->huggingface_hub->timm) (3.4.1)\n",
      "Requirement already satisfied: idna<4,>=2.5 in /usr/local/lib/python3.10/dist-packages (from requests->huggingface_hub->timm) (3.10)\n",
      "Requirement already satisfied: urllib3<3,>=1.21.1 in /usr/local/lib/python3.10/dist-packages (from requests->huggingface_hub->timm) (2.3.0)\n",
      "Requirement already satisfied: certifi>=2017.4.17 in /usr/local/lib/python3.10/dist-packages (from requests->huggingface_hub->timm) (2025.1.31)\n",
      "Requirement already satisfied: intel-cmplr-lib-ur==2024.2.0 in /usr/local/lib/python3.10/dist-packages (from intel-openmp>=2024->mkl->numpy->torchvision) (2024.2.0)\n"
     ]
    }
   ],
   "source": [
    "!pip install timm tqdm torchvision torchmetrics\n"
   ]
  },
  {
   "cell_type": "code",
   "execution_count": 13,
   "metadata": {
    "execution": {
     "iopub.execute_input": "2025-02-24T21:41:14.672374Z",
     "iopub.status.busy": "2025-02-24T21:41:14.672047Z",
     "iopub.status.idle": "2025-02-24T21:41:18.381178Z",
     "shell.execute_reply": "2025-02-24T21:41:18.380263Z",
     "shell.execute_reply.started": "2025-02-24T21:41:14.672340Z"
    },
    "trusted": true
   },
   "outputs": [
    {
     "name": "stderr",
     "output_type": "stream",
     "text": [
      "The cache for model files in Transformers v4.22.0 has been updated. Migrating your old cache. This is a one-time only operation. You can interrupt this and resume the migration later on by calling `transformers.utils.move_cache()`.\n"
     ]
    },
    {
     "data": {
      "application/vnd.jupyter.widget-view+json": {
       "model_id": "fbcd59b8b1e2470ca599a84f4904864a",
       "version_major": 2,
       "version_minor": 0
      },
      "text/plain": [
       "0it [00:00, ?it/s]"
      ]
     },
     "metadata": {},
     "output_type": "display_data"
    }
   ],
   "source": [
    "import os\n",
    "import torch\n",
    "import numpy as np\n",
    "import timm\n",
    "import torchvision.transforms as transforms\n",
    "from torchvision.datasets import ImageFolder\n",
    "from torch.utils.data import DataLoader, WeightedRandomSampler\n",
    "import torch.nn as nn\n",
    "import torch.optim as optim\n",
    "from torch.optim.lr_scheduler import ReduceLROnPlateau\n",
    "from tqdm import tqdm\n",
    "from torchmetrics import Accuracy, Precision, Recall, F1Score\n",
    "import matplotlib.pyplot as plt\n",
    "import seaborn as sns\n",
    "from sklearn.metrics import confusion_matrix, classification_report\n"
   ]
  },
  {
   "cell_type": "code",
   "execution_count": 32,
   "metadata": {
    "execution": {
     "iopub.execute_input": "2025-02-24T21:57:22.436205Z",
     "iopub.status.busy": "2025-02-24T21:57:22.435859Z",
     "iopub.status.idle": "2025-02-24T21:57:29.672189Z",
     "shell.execute_reply": "2025-02-24T21:57:29.671496Z",
     "shell.execute_reply.started": "2025-02-24T21:57:22.436175Z"
    },
    "trusted": true
   },
   "outputs": [],
   "source": [
    "\n",
    "# Directories\n",
    "train_dir = \"/kaggle/input/mpox-skin-lesion-dataset-version-20-msld-v20/Augmented Images/Augmented Images/FOLDS_AUG/fold5_AUG/Train\"\n",
    "val_dir = \"/kaggle/input/mpox-skin-lesion-dataset-version-20-msld-v20/Original Images/Original Images/FOLDS/fold5/Valid\"\n",
    "test_dir = \"/kaggle/input/mpox-skin-lesion-dataset-version-20-msld-v20/Original Images/Original Images/FOLDS/fold5/Test\"\n",
    "\n",
    "# Transformations\n",
    "transform = transforms.Compose([\n",
    "    transforms.Resize((224, 224)),\n",
    "    transforms.ToTensor(),\n",
    "    transforms.Normalize([0.485, 0.456, 0.406], [0.229, 0.224, 0.225]) # ImageNet normalization\n",
    "])\n",
    "\n",
    "# Load datasets\n",
    "train_data = ImageFolder(root=train_dir, transform=transform)\n",
    "val_data = ImageFolder(root=val_dir, transform=transform)\n",
    "test_data = ImageFolder(root=test_dir, transform=transform)\n"
   ]
  },
  {
   "cell_type": "code",
   "execution_count": 33,
   "metadata": {
    "execution": {
     "iopub.execute_input": "2025-02-24T21:57:30.970906Z",
     "iopub.status.busy": "2025-02-24T21:57:30.970626Z",
     "iopub.status.idle": "2025-02-24T21:57:31.004105Z",
     "shell.execute_reply": "2025-02-24T21:57:31.003395Z",
     "shell.execute_reply.started": "2025-02-24T21:57:30.970885Z"
    },
    "trusted": true
   },
   "outputs": [
    {
     "name": "stdout",
     "output_type": "stream",
     "text": [
      "Train samples: 7532 | Val samples: 154 | Test samples: 63\n"
     ]
    }
   ],
   "source": [
    "\n",
    "# Class weights for imbalanced dataset\n",
    "class_counts = np.bincount(train_data.targets)\n",
    "class_weights = 1.0 / torch.tensor(class_counts, dtype=torch.float32)\n",
    "sample_weights = [class_weights[label] for label in train_data.targets]\n",
    "\n",
    "sampler = WeightedRandomSampler(sample_weights, num_samples=len(sample_weights), replacement=True)\n",
    "\n",
    "# DataLoaders\n",
    "BATCH_SIZE = 16\n",
    "train_loader = DataLoader(train_data, batch_size=BATCH_SIZE, sampler=sampler, num_workers=4)\n",
    "val_loader = DataLoader(val_data, batch_size=BATCH_SIZE, shuffle=False, num_workers=4)\n",
    "test_loader = DataLoader(test_data, batch_size=BATCH_SIZE, shuffle=False, num_workers=4)\n",
    "\n",
    "print(f\"Train samples: {len(train_data)} | Val samples: {len(val_data)} | Test samples: {len(test_data)}\")\n"
   ]
  },
  {
   "cell_type": "code",
   "execution_count": 34,
   "metadata": {
    "execution": {
     "iopub.execute_input": "2025-02-24T21:57:38.691785Z",
     "iopub.status.busy": "2025-02-24T21:57:38.691453Z",
     "iopub.status.idle": "2025-02-24T21:57:42.396599Z",
     "shell.execute_reply": "2025-02-24T21:57:42.395615Z",
     "shell.execute_reply.started": "2025-02-24T21:57:38.691759Z"
    },
    "trusted": true
   },
   "outputs": [
    {
     "data": {
      "application/vnd.jupyter.widget-view+json": {
       "model_id": "dc380ce9479b4a2ca759574edf3d28c1",
       "version_major": 2,
       "version_minor": 0
      },
      "text/plain": [
       "model.safetensors:   0%|          | 0.00/346M [00:00<?, ?B/s]"
      ]
     },
     "metadata": {},
     "output_type": "display_data"
    }
   ],
   "source": [
    "\n",
    "# ViT Model Class\n",
    "class ViTClassifier(nn.Module):\n",
    "    def __init__(self, num_classes=6):\n",
    "        super(ViTClassifier, self).__init__()\n",
    "        self.backbone = timm.create_model(\"vit_base_patch16_224\", pretrained=True)\n",
    "        self.backbone.head = nn.Linear(self.backbone.head.in_features, num_classes)  # Replace classification head\n",
    "        \n",
    "    def forward(self, x):\n",
    "        return self.backbone(x)\n",
    "\n",
    "# Initialize Model\n",
    "device = torch.device(\"cuda\" if torch.cuda.is_available() else \"cpu\")\n",
    "model = ViTClassifier(num_classes=6).to(device)\n"
   ]
  },
  {
   "cell_type": "code",
   "execution_count": 35,
   "metadata": {
    "execution": {
     "iopub.execute_input": "2025-02-24T21:58:42.870633Z",
     "iopub.status.busy": "2025-02-24T21:58:42.870275Z",
     "iopub.status.idle": "2025-02-24T21:58:42.876465Z",
     "shell.execute_reply": "2025-02-24T21:58:42.875607Z",
     "shell.execute_reply.started": "2025-02-24T21:58:42.870608Z"
    },
    "trusted": true
   },
   "outputs": [],
   "source": [
    "# Freeze all layers\n",
    "for param in model.backbone.parameters():\n",
    "    param.requires_grad = False\n",
    "\n",
    "# Unfreeze only the last 10 layers\n",
    "for param in list(model.backbone.parameters())[-10:]:\n",
    "    param.requires_grad = True\n"
   ]
  },
  {
   "cell_type": "code",
   "execution_count": 41,
   "metadata": {
    "execution": {
     "iopub.execute_input": "2025-02-24T22:18:14.531165Z",
     "iopub.status.busy": "2025-02-24T22:18:14.530818Z",
     "iopub.status.idle": "2025-02-24T22:34:48.402709Z",
     "shell.execute_reply": "2025-02-24T22:34:48.401728Z",
     "shell.execute_reply.started": "2025-02-24T22:18:14.531133Z"
    },
    "trusted": true
   },
   "outputs": [
    {
     "name": "stderr",
     "output_type": "stream",
     "text": [
      "Epoch [1/10]: 100%|██████████| 471/471 [01:37<00:00,  4.84it/s, acc=0.982, loss=0.0284] \n",
      "Epoch [2/10]: 100%|██████████| 471/471 [01:37<00:00,  4.84it/s, acc=0.987, loss=0.0213] \n",
      "Epoch [3/10]: 100%|██████████| 471/471 [01:37<00:00,  4.84it/s, acc=0.99, loss=0.0166]  \n",
      "Epoch [4/10]: 100%|██████████| 471/471 [01:36<00:00,  4.87it/s, acc=0.992, loss=0.0127] \n",
      "Epoch [5/10]: 100%|██████████| 471/471 [01:37<00:00,  4.84it/s, acc=0.995, loss=0.0104] \n",
      "Epoch [6/10]: 100%|██████████| 471/471 [01:37<00:00,  4.84it/s, acc=0.996, loss=0.00846]\n",
      "Epoch [7/10]: 100%|██████████| 471/471 [01:37<00:00,  4.84it/s, acc=0.997, loss=0.00643]\n",
      "Epoch [8/10]: 100%|██████████| 471/471 [01:37<00:00,  4.84it/s, acc=0.997, loss=0.00602]\n",
      "Epoch [9/10]: 100%|██████████| 471/471 [01:37<00:00,  4.85it/s, acc=0.998, loss=0.0058] \n",
      "Epoch [10/10]: 100%|██████████| 471/471 [01:37<00:00,  4.84it/s, acc=0.997, loss=0.00576]\n"
     ]
    },
    {
     "name": "stdout",
     "output_type": "stream",
     "text": [
      "Training complete. Best validation accuracy: 82.47%\n"
     ]
    }
   ],
   "source": [
    "\n",
    "# Loss function (Weighted Cross-Entropy)\n",
    "class_weights = torch.tensor(class_counts.max() / class_counts, dtype=torch.float32).to(device)\n",
    "criterion = nn.CrossEntropyLoss(weight=class_weights)\n",
    "\n",
    "# Optimizer & Scheduler\n",
    "optimizer = optim.AdamW(model.parameters(), lr=1e-5, weight_decay=0.01)\n",
    "scheduler = ReduceLROnPlateau(optimizer, mode='max', factor=0.2, patience=3, verbose=True)\n",
    "\n",
    "# Training Function\n",
    "def train_model(model, train_loader, val_loader, criterion, optimizer, scheduler, epochs=10):\n",
    "    best_val_acc = 0.0\n",
    "    for epoch in range(epochs):\n",
    "        model.train()\n",
    "        running_loss = 0.0\n",
    "        correct = 0\n",
    "        total = 0\n",
    "        \n",
    "        # Progress bar\n",
    "        loop = tqdm(train_loader, leave=True)\n",
    "        for images, labels in loop:\n",
    "            images, labels = images.to(device), labels.to(device)\n",
    "            \n",
    "            optimizer.zero_grad()\n",
    "            outputs = model(images)\n",
    "            loss = criterion(outputs, labels)\n",
    "            loss.backward()\n",
    "            optimizer.step()\n",
    "            \n",
    "            running_loss += loss.item()\n",
    "            _, preds = torch.max(outputs, 1)\n",
    "            correct += (preds == labels).sum().item()\n",
    "            total += labels.size(0)\n",
    "            \n",
    "            loop.set_description(f\"Epoch [{epoch+1}/{epochs}]\")\n",
    "            loop.set_postfix(loss=running_loss / len(train_loader), acc=correct / total)\n",
    "        \n",
    "        val_acc = evaluate(model, val_loader)\n",
    "        scheduler.step(val_acc)\n",
    "        \n",
    "        if val_acc > best_val_acc:\n",
    "            best_val_acc = val_acc\n",
    "            torch.save(model.state_dict(), \"best_vit_model_epoch20_ft10.pth\")\n",
    "\n",
    "    print(\"Training complete. Best validation accuracy: {:.2f}%\".format(best_val_acc * 100))\n",
    "\n",
    "# Evaluation Function\n",
    "def evaluate(model, loader):\n",
    "    model.eval()\n",
    "    correct = 0\n",
    "    total = 0\n",
    "    with torch.no_grad():\n",
    "        for images, labels in loader:\n",
    "            images, labels = images.to(device), labels.to(device)\n",
    "            outputs = model(images)\n",
    "            _, preds = torch.max(outputs, 1)\n",
    "            correct += (preds == labels).sum().item()\n",
    "            total += labels.size(0)\n",
    "    return correct / total\n",
    "\n",
    "# Train ViT Model\n",
    "train_model(model, train_loader, val_loader, criterion, optimizer, scheduler, epochs=10)\n"
   ]
  },
  {
   "cell_type": "markdown",
   "metadata": {},
   "source": [
    "Finetuning_epoch10"
   ]
  },
  {
   "cell_type": "code",
   "execution_count": 40,
   "metadata": {
    "execution": {
     "iopub.execute_input": "2025-02-24T22:17:06.265815Z",
     "iopub.status.busy": "2025-02-24T22:17:06.265506Z",
     "iopub.status.idle": "2025-02-24T22:17:07.810166Z",
     "shell.execute_reply": "2025-02-24T22:17:07.809190Z",
     "shell.execute_reply.started": "2025-02-24T22:17:06.265790Z"
    },
    "trusted": true
   },
   "outputs": [
    {
     "name": "stderr",
     "output_type": "stream",
     "text": [
      "<ipython-input-40-bcdf4b4492d4>:3: FutureWarning: You are using `torch.load` with `weights_only=False` (the current default value), which uses the default pickle module implicitly. It is possible to construct malicious pickle data which will execute arbitrary code during unpickling (See https://github.com/pytorch/pytorch/blob/main/SECURITY.md#untrusted-models for more details). In a future release, the default value for `weights_only` will be flipped to `True`. This limits the functions that could be executed during unpickling. Arbitrary objects will no longer be allowed to be loaded via this mode unless they are explicitly allowlisted by the user via `torch.serialization.add_safe_globals`. We recommend you start setting `weights_only=True` for any use case where you don't have full control of the loaded file. Please open an issue on GitHub for any issues related to this experimental feature.\n",
      "  model.load_state_dict(torch.load(\"best_vit_model_epoch10_ft10.pth\"))\n"
     ]
    },
    {
     "name": "stdout",
     "output_type": "stream",
     "text": [
      "Accuracy: 88.89%\n",
      "Precision: 0.914\n",
      "Recall: 0.849\n",
      "F1 Score: 0.866\n"
     ]
    },
    {
     "data": {
      "image/png": "[encoded data removed]",
      "text/plain": [
       "<Figure size 640x480 with 2 Axes>"
      ]
     },
     "metadata": {},
     "output_type": "display_data"
    },
    {
     "name": "stdout",
     "output_type": "stream",
     "text": [
      "              precision    recall  f1-score   support\n",
      "\n",
      "  Chickenpox       0.83      0.71      0.77         7\n",
      "      Cowpox       1.00      1.00      1.00         7\n",
      "        HFMD       0.93      0.93      0.93        15\n",
      "     Healthy       0.91      1.00      0.95        10\n",
      "     Measles       1.00      0.50      0.67         6\n",
      "   Monkeypox       0.81      0.94      0.87        18\n",
      "\n",
      "    accuracy                           0.89        63\n",
      "   macro avg       0.91      0.85      0.87        63\n",
      "weighted avg       0.90      0.89      0.88        63\n",
      "\n"
     ]
    }
   ],
   "source": [
    "\n",
    "# Test Function\n",
    "def test_model(model, test_loader):\n",
    "    model.load_state_dict(torch.load(\"best_vit_model_epoch10_ft10.pth\"))\n",
    "    model.eval()\n",
    "    \n",
    "    all_preds = []\n",
    "    all_labels = []\n",
    "    \n",
    "    with torch.no_grad():\n",
    "        for images, labels in test_loader:\n",
    "            images, labels = images.to(device), labels.to(device)\n",
    "            outputs = model(images)\n",
    "            _, preds = torch.max(outputs, 1)\n",
    "            all_preds.extend(preds.cpu().numpy())\n",
    "            all_labels.extend(labels.cpu().numpy())\n",
    "    \n",
    "    return np.array(all_labels), np.array(all_preds)\n",
    "\n",
    "# Evaluate on Test Set\n",
    "true_labels, pred_labels = test_model(model, test_loader)\n",
    "\n",
    "from sklearn.metrics import accuracy_score, precision_score, recall_score, f1_score\n",
    "\n",
    "print(\"Accuracy: {:.2f}%\".format(accuracy_score(true_labels, pred_labels) * 100))\n",
    "print(\"Precision: {:.3f}\".format(precision_score(true_labels, pred_labels, average='macro')))\n",
    "print(\"Recall: {:.3f}\".format(recall_score(true_labels, pred_labels, average='macro')))\n",
    "print(\"F1 Score: {:.3f}\".format(f1_score(true_labels, pred_labels, average='macro')))\n",
    "\n",
    "# Confusion Matrix\n",
    "cm = confusion_matrix(true_labels, pred_labels)\n",
    "sns.heatmap(cm, annot=True, fmt='d', cmap='Blues')\n",
    "plt.xlabel(\"Predicted Label\")\n",
    "plt.ylabel(\"True Label\")\n",
    "plt.show()\n",
    "\n",
    "# Classification Report\n",
    "print(classification_report(true_labels, pred_labels, target_names=train_data.classes))\n"
   ]
  },
  {
   "cell_type": "code",
   "execution_count": null,
   "metadata": {
    "trusted": true
   },
   "outputs": [],
   "source": []
  }
 ],
 "metadata": {
  "kernelspec": {
   "display_name": "Python 3",
   "language": "python",
   "name": "python3"
  },
  "language_info": {
   "codemirror_mode": {
    "name": "ipython",
    "version": 3
   },
   "file_extension": ".py",
   "mimetype": "text/x-python",
   "name": "python",
   "nbconvert_exporter": "python",
   "pygments_lexer": "ipython3",
   "version": "3.10.12"
  }
 },
 "nbformat": 4,
 "nbformat_minor": 4
}
